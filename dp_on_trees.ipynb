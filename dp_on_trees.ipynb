{
 "cells": [
  {
   "cell_type": "markdown",
   "id": "1f609775",
   "metadata": {},
   "source": [
    "# Problems on DP on trees\n",
    "---\n",
    "## Approach for any tree problem\n",
    "\n",
    "- ### Format of any tree solution will be as follows:\n",
    "    1. Base case\n",
    "    2. Hypothesis Part -> calling function for left and right subtrees.\n",
    "    3. Induction Part -> calculation at the node and the return statement.\n",
    "    \n",
    "## Problems on Tree\n",
    "    1. Diameter of a Binary Tree\n",
    "    2. Maximum path sum from any node to any node\n",
    "    3. Maximum Path sum from leaf to leaf\n",
    "    4. Diameter of N-ary tree.\n",
    "---"
   ]
  },
  {
   "cell_type": "markdown",
   "id": "9f50b1d6",
   "metadata": {},
   "source": [
    "# Define Tree Node"
   ]
  },
  {
   "cell_type": "code",
   "execution_count": 6,
   "id": "f46cf09f",
   "metadata": {},
   "outputs": [],
   "source": [
    "class TreeNode:\n",
    "    def __init__(self, val=0, left=None, right=None):\n",
    "        self.val = val\n",
    "        self.left = left\n",
    "        self.right = right"
   ]
  },
  {
   "cell_type": "markdown",
   "id": "f26c7177",
   "metadata": {},
   "source": [
    "## Problem statement:\n",
    "1. For any given binary-tree, find its diameter.\n",
    "    Diameter -> length of the longest path, the path may not pass through the root."
   ]
  },
  {
   "cell_type": "markdown",
   "id": "5655e6e7",
   "metadata": {},
   "source": [
    "## Brute Force approach\n",
    "1. Intution for brute-force for basic tree with one root, left and right child, \n",
    "2. The diameter would be 2 + height of left tree + height of right tree."
   ]
  },
  {
   "cell_type": "code",
   "execution_count": 7,
   "id": "66b24dc7",
   "metadata": {},
   "outputs": [],
   "source": [
    "def get_binary_tree_height(root):\n",
    "    # Base case\n",
    "    if not root:\n",
    "        return 0\n",
    "    if not root.left and not root.right:\n",
    "        return 0\n",
    "    left_sub_tree_height = get_binary_tree_height(root.left)\n",
    "    right_sub_tree_height = get_binary_tree_height(root.right)\n",
    "    return 1 + max(left_sub_tree_height, right_sub_tree_height)\n",
    "\n",
    "def binary_tree_diameter_brute_force(root):\n",
    "    # Base case: root is None\n",
    "    if not root:\n",
    "        return 0\n",
    "    # Find Current node's diameter\n",
    "    current_diameter = 0\n",
    "    if root.left:\n",
    "        current_diameter += get_binary_tree_height(root.left) + 1\n",
    "    if root.right:\n",
    "        current_diameter += get_binary_tree_height(root.right) + 1\n",
    "    # Find Diameter of left sub tree\n",
    "    left_sub_tree_diameter = 0\n",
    "    left_sub_tree_diameter = binary_tree_diameter_brute_force(root.left)\n",
    "    # Find Diameter of right sub tree\n",
    "    right_sub_tree_diameter = 0\n",
    "    right_sub_tree_diameter = binary_tree_diameter_brute_force(root.right)\n",
    "    # Return max of among current node's , left sub tree and right sub tree diameter\n",
    "    return max(current_diameter, left_sub_tree_diameter, right_sub_tree_diameter)"
   ]
  },
  {
   "cell_type": "markdown",
   "id": "39cbf243",
   "metadata": {},
   "source": [
    "## Optimal Approach"
   ]
  },
  {
   "cell_type": "code",
   "execution_count": 8,
   "id": "10ef15f5",
   "metadata": {},
   "outputs": [],
   "source": [
    "def binary_tree_diameter_optimal(root, res):\n",
    "    # Base case\n",
    "    if not root:\n",
    "        return 0\n",
    "    # Hypothesis\n",
    "    left_sub_tree_diameter = binary_tree_diameter_optimal(root.left, res)\n",
    "    right_sub_tree_diameter = binary_tree_diameter_optimal(root.right, res)\n",
    "    # Induction\n",
    "    # 1. If the current node is the answer\n",
    "    ans = left_sub_tree_diameter + right_sub_tree_diameter + 1\n",
    "    res[0] = max(ans, res[0])\n",
    "    # 2. If the parent is the answer\n",
    "    temp = max(left_sub_tree_diameter, right_sub_tree_diameter) + 1\n",
    "    return temp"
   ]
  },
  {
   "cell_type": "markdown",
   "id": "08d4d13d",
   "metadata": {},
   "source": [
    "---\n",
    "## Problem statement:\n",
    "    - For any given tree, find the maximum path sum.\n",
    "    - The path may not pass through the root, and nodes may have negative values.\n",
    "## Algorithm:\n",
    "    - At every sub tree we have two possibilities, Whether path involves parent or not.\n",
    "    - For two possibilities we have 1 and 3 cases respectively.\n",
    "        1. Val of node is max.\n",
    "        2. Val of node + val of left child is max.\n",
    "        3. Val of node + val of right child is max.\n",
    "        4. Val of node + val of left + right child is max."
   ]
  },
  {
   "cell_type": "code",
   "execution_count": 9,
   "id": "276f13d3",
   "metadata": {},
   "outputs": [],
   "source": [
    "def get_binary_tree_value(root):\n",
    "    if not root:\n",
    "        return float('-inf')\n",
    "    left_sub_tree_value = float('-inf')\n",
    "    if root.left:\n",
    "        left_sub_tree_value = get_binary_tree_value(root.left)\n",
    "    right_sub_tree_value = float('-inf')\n",
    "    if root.right:\n",
    "        right_sub_tree_value = get_binary_tree_value(root.right)\n",
    "    return max(max(left_sub_tree_value, right_sub_tree_value) + root.val, root.val, left_sub_tree_value + right_sub_tree_value + root.val)\n",
    "\n",
    "def max_path_sum_brute_force(root):\n",
    "    # Base case: root is None\n",
    "    if not root:\n",
    "        return 0\n",
    "    left_sub_tree_value = max_path_sum_brute_force(root.left)\n",
    "    right_sub_tree_value = max_path_sum_brute_force(root.right)\n",
    "    curr_max = get_binary_tree_value(root)\n",
    "    return max(curr_max, left_sub_tree_value, right_sub_tree_value)\n",
    "\n",
    "def max_path_sum_optimal(root, res):\n",
    "    # Base case\n",
    "    if not root:\n",
    "        return 0\n",
    "    # Hypothesis\n",
    "    left_sub_tree_value = max_path_sum_optimal(root.left, res)\n",
    "    right_sub_tree_value = max_path_sum_optimal(root.right, res)\n",
    "    # Induction\n",
    "    topa = max(max(left_sub_tree_value, right_sub_tree_value) + root.val, root.val)\n",
    "    ans = max(topa, left_sub_tree_value + right_sub_tree_value + root.val)\n",
    "    res[0] = max(ans, res[0])\n",
    "    return topa\n",
    "\n",
    "def max_path_sum(root):\n",
    "    res = [float('-inf')]\n",
    "    max_path_sum_optimal(root, res)\n",
    "    return res[0]"
   ]
  },
  {
   "cell_type": "markdown",
   "id": "abb9cba1",
   "metadata": {},
   "source": [
    "---\n",
    "# Driver Code\n",
    "---"
   ]
  },
  {
   "cell_type": "code",
   "execution_count": 10,
   "id": "9a1c09fa",
   "metadata": {},
   "outputs": [
    {
     "name": "stdout",
     "output_type": "stream",
     "text": [
      "Diameter of the binary tree: 3\n",
      "Maximum path sum of the binary tree: 18\n"
     ]
    }
   ],
   "source": [
    "if __name__ == \"__main__\":\n",
    "    # Create a sample binary tree\n",
    "    root = TreeNode(1)\n",
    "    root.left = TreeNode(2)\n",
    "    root.right = TreeNode(3)\n",
    "    root.left.left = TreeNode(4)\n",
    "    root.left.right = TreeNode(5)\n",
    "    root.right.left = TreeNode(6)\n",
    "    root.right.right = TreeNode(7)\n",
    "\n",
    "    # Calculate the diameter and maximum path sum\n",
    "    diameter = binary_tree_diameter_optimal(root, [0])\n",
    "    max_path_sum_value = max_path_sum(root)\n",
    "\n",
    "    print(\"Diameter of the binary tree:\", diameter)\n",
    "    print(\"Maximum path sum of the binary tree:\", max_path_sum_value)"
   ]
  }
 ],
 "metadata": {
  "kernelspec": {
   "display_name": "Python 3 (ipykernel)",
   "language": "python",
   "name": "python3"
  },
  "language_info": {
   "codemirror_mode": {
    "name": "ipython",
    "version": 3
   },
   "file_extension": ".py",
   "mimetype": "text/x-python",
   "name": "python",
   "nbconvert_exporter": "python",
   "pygments_lexer": "ipython3",
   "version": "3.10.12"
  }
 },
 "nbformat": 4,
 "nbformat_minor": 5
}
