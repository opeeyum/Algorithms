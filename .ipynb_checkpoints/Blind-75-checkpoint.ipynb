{
 "cells": [
  {
   "cell_type": "markdown",
   "id": "cc226242",
   "metadata": {},
   "source": [
    "# Blind 75"
   ]
  },
  {
   "cell_type": "markdown",
   "id": "2e78dc29",
   "metadata": {},
   "source": [
    "## Arrays & Hashing"
   ]
  },
  {
   "cell_type": "markdown",
   "id": "e1e6345c",
   "metadata": {},
   "source": [
    "### 1. Contains Duplicate\n",
    "Given an integer array nums, return true if any value appears at least twice in the array, and return false if every element is distinct."
   ]
  },
  {
   "cell_type": "markdown",
   "id": "42913a5c",
   "metadata": {},
   "source": [
    "#### Brute Force Approach\n",
    "\n",
    "- We start by picking the first number in the list.\n",
    "- Then, we compare this number with all the numbers that come after it. If we find any number that matches the one we started with, we immediately conclude that there is a duplicate in the list, and we stop looking further.\n",
    "- If we don't find any matches in our initial comparison, we move on to the next number in the list and repeat the process. Again, we compare it with all the numbers that come after it.\n",
    "- we keep doing this for each number in the list, one after the other, checking for duplicates as we go.\n",
    "- If at any point we find a pair of numbers that are the same, we return \"Yes, there are duplicates in the list\" (True).\n",
    "- If we go through the entire list without finding any duplicates, we conclude that there are no duplicates in the list and return \"No, there are no duplicates\" (False)."
   ]
  },
  {
   "cell_type": "code",
   "execution_count": 1,
   "id": "eed65243",
   "metadata": {},
   "outputs": [
    {
     "data": {
      "text/plain": [
       "True"
      ]
     },
     "execution_count": 1,
     "metadata": {},
     "output_type": "execute_result"
    }
   ],
   "source": [
    "# Function definition\n",
    "def containsDuplicate(nums: list) -> bool:\n",
    "    n = len(nums)\n",
    "    for i in range(n):\n",
    "        for j in range(i, n):\n",
    "            if nums[i] == nums[j]:\n",
    "                return True\n",
    "    return False\n",
    "\n",
    "# Function Call\n",
    "containsDuplicate([1, 2, 3, 1])"
   ]
  },
  {
   "cell_type": "markdown",
   "id": "0767b4db",
   "metadata": {},
   "source": [
    "#### Time Complexity: O(N\\*N)\n",
    "#### Space Complexity: O(1)\n",
    "---"
   ]
  },
  {
   "cell_type": "markdown",
   "id": "52f6e6e0",
   "metadata": {},
   "source": [
    "#### Optimal Solution\n",
    "\n",
    "- We create an empty hash set called `hash_map`. Think of this set as a container where we can store unique elements.\n",
    "- We start iterating through the list of numbers one by one.\n",
    "- For each number in the list, we check if it's already in the `hash_map`. This is like asking the question, \"Have I seen this number before?\" If the answer is \"Yes,\" we immediately conclude that there is a duplicate in the list, and we stop looking further.\n",
    "- If the number is not in the `hash_map`, we add it to the set. This is our way of remembering that we've seen this number.\n",
    "- We continue this process, moving through the entire list of numbers, checking each one against the numbers we've seen so far.\n",
    "- If at any point we find a number that is already in the `hash_map`, we return \"Yes, there are duplicates in the list\" (True).\n",
    "- If we go through the entire list without finding any duplicates, we conclude that there are no duplicates in the list and return \"No, there are no duplicates\" (False)."
   ]
  },
  {
   "cell_type": "code",
   "execution_count": 1,
   "id": "06efd077",
   "metadata": {},
   "outputs": [
    {
     "data": {
      "text/plain": [
       "False"
      ]
     },
     "execution_count": 1,
     "metadata": {},
     "output_type": "execute_result"
    }
   ],
   "source": [
    "# Function Defintion\n",
    "def containsDuplicate(nums: list) -> bool:\n",
    "    hash_map = set()\n",
    "    for num in nums:\n",
    "        if num in hash_map:\n",
    "            return True\n",
    "        else:\n",
    "            hash_map.add(num)\n",
    "    return False\n",
    "\n",
    "# Function Call\n",
    "containsDuplicate([1, 2, 3, 4])"
   ]
  },
  {
   "cell_type": "markdown",
   "id": "60c8d95f",
   "metadata": {},
   "source": [
    "#### Time Complexity: O(N)\n",
    "#### Space Complexity: O(N)\n",
    "---"
   ]
  },
  {
   "cell_type": "markdown",
   "id": "7c9710a3",
   "metadata": {},
   "source": [
    "## 2. Bit Manipulations"
   ]
  },
  {
   "cell_type": "markdown",
   "id": "7003cccc",
   "metadata": {},
   "source": [
    "### 2.1 Number of 1 bits\n",
    "- Count the number of set bits (bits with a value of 1) in the binary representation of an integer n."
   ]
  },
  {
   "cell_type": "markdown",
   "id": "93f17290",
   "metadata": {},
   "source": [
    "#### Brute Force Approach\n",
    "1. Initialize a variable count to 0 to keep track of the number of set bits.\n",
    "2. Use a while loop to iterate through each bit of the binary representation of n.\n",
    "3. Check if the least significant bit (LSB) is 1 using the bitwise AND operation (n & 1).\n",
    "4. If the LSB is 1, increment the count variable.\n",
    "5. Right shift n by 1 position to move to the next bit.\n",
    "6. Repeat steps 3-5 until all bits of n have been processed.\n",
    "7. Return the final count."
   ]
  },
  {
   "cell_type": "code",
   "execution_count": 1,
   "id": "597fb880",
   "metadata": {},
   "outputs": [
    {
     "data": {
      "text/plain": [
       "3"
      ]
     },
     "execution_count": 1,
     "metadata": {},
     "output_type": "execute_result"
    }
   ],
   "source": [
    "def number_of_1_bits(n: int) -> int:\n",
    "    \"\"\"\n",
    "    Count the number of set bits (1s) in the binary representation of an integer.\n",
    "\n",
    "    Parameters:\n",
    "    - n (int): Input integer.\n",
    "\n",
    "    Returns:\n",
    "    - int: Number of set bits in the binary representation of the input integer.\n",
    "    \"\"\"\n",
    "    count = 0\n",
    "    while n:\n",
    "        if n & 1 == 1:\n",
    "            count += 1\n",
    "        n >>= 1\n",
    "    return count\n",
    "\n",
    "# function call\n",
    "number_of_1_bits(200)"
   ]
  },
  {
   "cell_type": "markdown",
   "id": "a701d3b7",
   "metadata": {},
   "source": [
    "#### Optimal Solution\n",
    "##### Intuition:\n",
    "The algorithm uses a bitwise operation trick to efficiently count the number of set bits in the binary representation of the given integer n. The key insight is in the line n &= (n - 1), which effectively drops the rightmost set bit of n in each iteration.\n",
    "\n",
    "##### Algorithm:\n",
    "1. Initialize a variable count to 0.\n",
    "2. Use a while loop that continues until n becomes 0.\n",
    "3. Inside the loop, perform n &= (n - 1), which drops the rightmost set bit in n.\n",
    "4. Increment the count for every iteration.\n",
    "5. Return the final count."
   ]
  },
  {
   "cell_type": "code",
   "execution_count": 5,
   "id": "e101e1ff",
   "metadata": {},
   "outputs": [
    {
     "name": "stdout",
     "output_type": "stream",
     "text": [
      "3\n"
     ]
    }
   ],
   "source": [
    "def number_of_1_bits(n: int) -> int:\n",
    "    count = 0;\n",
    "    \n",
    "    while n: \n",
    "        n &= (n - 1) # n & (n-1), drops the last set bit.\n",
    "        count += 1\n",
    "    \n",
    "    return count;\n",
    "\n",
    "res = number_of_1_bits(200)\n",
    "print(res)"
   ]
  },
  {
   "cell_type": "markdown",
   "id": "579b031b",
   "metadata": {},
   "source": [
    "##### Time Complexity:\n",
    "The time complexity of this algorithm is O(k), where k is the number of set bits in the binary representation of n. In the worst case, the loop runs for each set bit in n, and the bitwise operation n &= (n - 1) takes constant time.\n",
    "\n",
    "##### Space Complexity:\n",
    "The space complexity is O(1), as the algorithm uses a constant amount of space regardless of the input size. The only variable used is count, and its space requirement does not depend on the input size."
   ]
  },
  {
   "cell_type": "markdown",
   "id": "615688e8",
   "metadata": {},
   "source": [
    "### 2.2 Counting Bits"
   ]
  },
  {
   "cell_type": "markdown",
   "id": "738fbe8f",
   "metadata": {},
   "source": [
    "#### Optimal Solution\n",
    "##### Intuition:\n",
    "The goal of the function countBits is to count the number of 1s in the binary representation of all numbers from 0 to n. The function utilizes dynamic programming to efficiently compute these counts.\n",
    "\n",
    "##### Algorithm:\n",
    "1. Initialize an array ans of size n+1 to store the count of 1s for each number in the range from 0 to n.\n",
    "2. Iterate over the numbers from 1 to n using a loop.\n",
    "3. For each number i, the count of 1s in its binary representation is calculated as follows:\n",
    "    - ans[i] = ans[i//2] + i % 2\n",
    "        - ans[i//2] corresponds to the count of 1s in the binary representation of i/2, which is essentially the same as right-shifting the bits of i by one position.\n",
    "        - i % 2 gives the remainder when i is divided by 2, which is the last bit of the binary representation of i.\n",
    "        - The sum of these two values gives the count of 1s in the binary representation of i.\n",
    "4. The final result is the array ans."
   ]
  },
  {
   "cell_type": "code",
   "execution_count": 2,
   "id": "55aeff35",
   "metadata": {},
   "outputs": [
    {
     "data": {
      "text/plain": [
       "[0, 1, 1, 2, 1, 2, 2]"
      ]
     },
     "execution_count": 2,
     "metadata": {},
     "output_type": "execute_result"
    }
   ],
   "source": [
    "from typing import List\n",
    "def countBits(n: int) -> List[int]:\n",
    "    '''Binary representation of a number depends on the binary representation on its half \n",
    "       and its remainder when devided by 2.\n",
    "    '''\n",
    "    ans = [0 for _ in range(n+1)]\n",
    "    for i in range(1, n+1):\n",
    "        ans[i] = ans[i//2] + i%2\n",
    "    return ans\n",
    "countBits(6)"
   ]
  },
  {
   "cell_type": "markdown",
   "id": "e3987ff7",
   "metadata": {},
   "source": [
    "##### Time Complexity:\n",
    "The time complexity of this algorithm is O(n), where n is the input parameter. This is because there is a single loop that iterates over all numbers from 1 to n, and the operations inside the loop are constant time.\n",
    "\n",
    "##### Space Complexity:\n",
    "The space complexity is also O(n), as we use an additional array ans of size n+1 to store the count of 1s for each number. The space required is linear with respect to the input size."
   ]
  }
 ],
 "metadata": {
  "kernelspec": {
   "display_name": "Python 3 (ipykernel)",
   "language": "python",
   "name": "python3"
  },
  "language_info": {
   "codemirror_mode": {
    "name": "ipython",
    "version": 3
   },
   "file_extension": ".py",
   "mimetype": "text/x-python",
   "name": "python",
   "nbconvert_exporter": "python",
   "pygments_lexer": "ipython3",
   "version": "3.10.12"
  }
 },
 "nbformat": 4,
 "nbformat_minor": 5
}
