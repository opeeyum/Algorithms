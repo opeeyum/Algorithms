{
 "cells": [
  {
   "cell_type": "markdown",
   "id": "cc226242",
   "metadata": {},
   "source": [
    "# Blind 75"
   ]
  },
  {
   "cell_type": "markdown",
   "id": "2e78dc29",
   "metadata": {},
   "source": [
    "## Arrays & Hashing"
   ]
  },
  {
   "cell_type": "markdown",
   "id": "e1e6345c",
   "metadata": {},
   "source": [
    "### 1. Contains Duplicate\n",
    "Given an integer array nums, return true if any value appears at least twice in the array, and return false if every element is distinct."
   ]
  },
  {
   "cell_type": "markdown",
   "id": "42913a5c",
   "metadata": {},
   "source": [
    "#### Brute Force Approach\n",
    "\n",
    "- We start by picking the first number in the list.\n",
    "- Then, we compare this number with all the numbers that come after it. If we find any number that matches the one we started with, we immediately conclude that there is a duplicate in the list, and we stop looking further.\n",
    "- If we don't find any matches in our initial comparison, we move on to the next number in the list and repeat the process. Again, we compare it with all the numbers that come after it.\n",
    "- we keep doing this for each number in the list, one after the other, checking for duplicates as we go.\n",
    "- If at any point we find a pair of numbers that are the same, we return \"Yes, there are duplicates in the list\" (True).\n",
    "- If we go through the entire list without finding any duplicates, we conclude that there are no duplicates in the list and return \"No, there are no duplicates\" (False)."
   ]
  },
  {
   "cell_type": "code",
   "execution_count": 10,
   "id": "eed65243",
   "metadata": {},
   "outputs": [
    {
     "data": {
      "text/plain": [
       "True"
      ]
     },
     "execution_count": 10,
     "metadata": {},
     "output_type": "execute_result"
    }
   ],
   "source": [
    "# Function definition\n",
    "def containsDuplicate(nums: list) -> bool:\n",
    "    n = len(nums)\n",
    "    for i in range(n):\n",
    "        for j in range(i, n):\n",
    "            if nums[i] == nums[j]:\n",
    "                return True\n",
    "    return False\n",
    "\n",
    "# Function Call\n",
    "containsDuplicate([1, 2, 3, 1])"
   ]
  },
  {
   "cell_type": "markdown",
   "id": "0767b4db",
   "metadata": {},
   "source": [
    "#### Time Complexity: O(N\\*N)\n",
    "#### Space Complexity: O(1)\n",
    "---"
   ]
  },
  {
   "cell_type": "markdown",
   "id": "52f6e6e0",
   "metadata": {},
   "source": [
    "#### Optimal Solution\n",
    "\n",
    "- We create an empty hash set called `hash_map`. Think of this set as a container where we can store unique elements.\n",
    "- We start iterating through the list of numbers one by one.\n",
    "- For each number in the list, we check if it's already in the `hash_map`. This is like asking the question, \"Have I seen this number before?\" If the answer is \"Yes,\" we immediately conclude that there is a duplicate in the list, and we stop looking further.\n",
    "- If the number is not in the `hash_map`, we add it to the set. This is our way of remembering that we've seen this number.\n",
    "- We continue this process, moving through the entire list of numbers, checking each one against the numbers we've seen so far.\n",
    "- If at any point we find a number that is already in the `hash_map`, we return \"Yes, there are duplicates in the list\" (True).\n",
    "- If we go through the entire list without finding any duplicates, we conclude that there are no duplicates in the list and return \"No, there are no duplicates\" (False)."
   ]
  },
  {
   "cell_type": "code",
   "execution_count": 1,
   "id": "06efd077",
   "metadata": {},
   "outputs": [
    {
     "data": {
      "text/plain": [
       "False"
      ]
     },
     "execution_count": 1,
     "metadata": {},
     "output_type": "execute_result"
    }
   ],
   "source": [
    "# Function Defintion\n",
    "def containsDuplicate(nums: list) -> bool:\n",
    "    hash_map = set()\n",
    "    for num in nums:\n",
    "        if num in hash_map:\n",
    "            return True\n",
    "        else:\n",
    "            hash_map.add(num)\n",
    "    return False\n",
    "\n",
    "# Function Call\n",
    "containsDuplicate([1, 2, 3, 4])"
   ]
  },
  {
   "cell_type": "markdown",
   "id": "60c8d95f",
   "metadata": {},
   "source": [
    "#### Time Complexity: O(N)\n",
    "#### Space Complexity: O(N)\n",
    "---"
   ]
  },
  {
   "cell_type": "code",
   "execution_count": null,
   "id": "470cf191",
   "metadata": {},
   "outputs": [],
   "source": []
  }
 ],
 "metadata": {
  "kernelspec": {
   "display_name": "Python 3 (ipykernel)",
   "language": "python",
   "name": "python3"
  },
  "language_info": {
   "codemirror_mode": {
    "name": "ipython",
    "version": 3
   },
   "file_extension": ".py",
   "mimetype": "text/x-python",
   "name": "python",
   "nbconvert_exporter": "python",
   "pygments_lexer": "ipython3",
   "version": "3.10.12"
  }
 },
 "nbformat": 4,
 "nbformat_minor": 5
}
