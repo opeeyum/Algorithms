{
 "cells": [
  {
   "cell_type": "markdown",
   "id": "cc226242",
   "metadata": {},
   "source": [
    "# Blind 75"
   ]
  },
  {
   "cell_type": "markdown",
   "id": "2e78dc29",
   "metadata": {},
   "source": [
    "## 1. Arrays & Hashing "
   ]
  },
  {
   "cell_type": "markdown",
   "id": "e1e6345c",
   "metadata": {},
   "source": [
    "### [1.1 Contains Duplicate](https://leetcode.com/problems/contains-duplicate/)\n",
    "Given an integer array nums, return true if any value appears at least twice in the array, and return false if every element is distinct."
   ]
  },
  {
   "cell_type": "markdown",
   "id": "42913a5c",
   "metadata": {},
   "source": [
    "#### Brute Force Approach\n",
    "\n",
    "- We start by picking the first number in the list.\n",
    "- Then, we compare this number with all the numbers that come after it. If we find any number that matches the one we started with, we immediately conclude that there is a duplicate in the list, and we stop looking further.\n",
    "- If we don't find any matches in our initial comparison, we move on to the next number in the list and repeat the process. Again, we compare it with all the numbers that come after it.\n",
    "- we keep doing this for each number in the list, one after the other, checking for duplicates as we go.\n",
    "- If at any point we find a pair of numbers that are the same, we return \"Yes, there are duplicates in the list\" (True).\n",
    "- If we go through the entire list without finding any duplicates, we conclude that there are no duplicates in the list and return \"No, there are no duplicates\" (False)."
   ]
  },
  {
   "cell_type": "code",
   "execution_count": 1,
   "id": "eed65243",
   "metadata": {},
   "outputs": [
    {
     "data": {
      "text/plain": [
       "True"
      ]
     },
     "execution_count": 1,
     "metadata": {},
     "output_type": "execute_result"
    }
   ],
   "source": [
    "# Function definition\n",
    "def containsDuplicate(nums: list) -> bool:\n",
    "    n = len(nums)\n",
    "    for i in range(n):\n",
    "        for j in range(i, n):\n",
    "            if nums[i] == nums[j]:\n",
    "                return True\n",
    "    return False\n",
    "\n",
    "# Function Call\n",
    "containsDuplicate([1, 2, 3, 1])"
   ]
  },
  {
   "cell_type": "markdown",
   "id": "0767b4db",
   "metadata": {},
   "source": [
    "#### Time Complexity: O(N\\*N)\n",
    "#### Space Complexity: O(1)\n",
    "---"
   ]
  },
  {
   "cell_type": "markdown",
   "id": "52f6e6e0",
   "metadata": {},
   "source": [
    "#### Optimal Solution\n",
    "\n",
    "- We create an empty hash set called `hash_map`. Think of this set as a container where we can store unique elements.\n",
    "- We start iterating through the list of numbers one by one.\n",
    "- For each number in the list, we check if it's already in the `hash_map`. This is like asking the question, \"Have I seen this number before?\" If the answer is \"Yes,\" we immediately conclude that there is a duplicate in the list, and we stop looking further.\n",
    "- If the number is not in the `hash_map`, we add it to the set. This is our way of remembering that we've seen this number.\n",
    "- We continue this process, moving through the entire list of numbers, checking each one against the numbers we've seen so far.\n",
    "- If at any point we find a number that is already in the `hash_map`, we return \"Yes, there are duplicates in the list\" (True).\n",
    "- If we go through the entire list without finding any duplicates, we conclude that there are no duplicates in the list and return \"No, there are no duplicates\" (False)."
   ]
  },
  {
   "cell_type": "code",
   "execution_count": 1,
   "id": "06efd077",
   "metadata": {},
   "outputs": [
    {
     "data": {
      "text/plain": [
       "False"
      ]
     },
     "execution_count": 1,
     "metadata": {},
     "output_type": "execute_result"
    }
   ],
   "source": [
    "# Function Defintion\n",
    "def containsDuplicate(nums: list) -> bool:\n",
    "    hash_map = set()\n",
    "    for num in nums:\n",
    "        if num in hash_map:\n",
    "            return True\n",
    "        else:\n",
    "            hash_map.add(num)\n",
    "    return False\n",
    "\n",
    "# Function Call\n",
    "containsDuplicate([1, 2, 3, 4])"
   ]
  },
  {
   "cell_type": "markdown",
   "id": "60c8d95f",
   "metadata": {},
   "source": [
    "#### Time Complexity: O(N)\n",
    "#### Space Complexity: O(N)\n",
    "---"
   ]
  },
  {
   "cell_type": "markdown",
   "id": "7697aaed",
   "metadata": {},
   "source": [
    "### [1.2 Valid Anagram](https://leetcode.com/problems/valid-anagram/)\n",
    "Given two strings s and t, return true if t is an anagram of s, and false otherwise."
   ]
  },
  {
   "cell_type": "markdown",
   "id": "c056c1a9",
   "metadata": {},
   "source": [
    "#### Brute Force Approach\n",
    "- Sort both the given strings and compare it."
   ]
  },
  {
   "cell_type": "code",
   "execution_count": 2,
   "id": "48f53fe5",
   "metadata": {},
   "outputs": [
    {
     "data": {
      "text/plain": [
       "True"
      ]
     },
     "execution_count": 2,
     "metadata": {},
     "output_type": "execute_result"
    }
   ],
   "source": [
    "def isAnagram(s:str, t:str) -> bool:\n",
    "    return sorted(s) == sorted(t)\n",
    "\n",
    "isAnagram(\"anagram\", \"nagaram\")"
   ]
  },
  {
   "cell_type": "markdown",
   "id": "0b762f5f",
   "metadata": {},
   "source": [
    "#### Time Complexity: O(N * log(N))\n",
    "#### Space Complexity: O(1)\n",
    "---"
   ]
  },
  {
   "cell_type": "markdown",
   "id": "7247a788",
   "metadata": {},
   "source": [
    "#### Optimal Solution\n",
    "1. **Initialize Helper Array**: Create a helper array of size 26, where each element represents the count of a particular character in the alphabet. We'll use this array to keep track of the frequency of characters in the strings.\n",
    "2. **Count Characters in First String**: Iterate through the characters of the first string s and update the corresponding count in the helper array.\n",
    "3. **Subtract Counts from Second String**: Similarly, iterate through the characters of the second string t and subtract the corresponding counts from the helper array.\n",
    "4. **Check if All Counts are Zero**: After processing both strings, iterate through the helper array. If any element is non-zero, it means the strings are not anagrams.\n",
    "5. **Return True if Anagram**: If all counts are zero, it means the strings are anagrams of each other, so return True."
   ]
  },
  {
   "cell_type": "code",
   "execution_count": 4,
   "id": "da83a96a",
   "metadata": {},
   "outputs": [
    {
     "data": {
      "text/plain": [
       "(True, False)"
      ]
     },
     "execution_count": 4,
     "metadata": {},
     "output_type": "execute_result"
    }
   ],
   "source": [
    "def isAnagram(s: str, t: str) -> bool:\n",
    "    helper = [0 for _ in range(26)]\n",
    "    for char in s:\n",
    "        helper[ord(char)-ord('a')] += 1\n",
    "    for char in t:\n",
    "        helper[ord(char)-ord('a')] -= 1\n",
    "    for i in helper:\n",
    "        if i != 0:\n",
    "            return False\n",
    "    return True\n",
    "isAnagram(\"anagram\", \"nagaram\"),isAnagram(\"rat\", \"car\")"
   ]
  },
  {
   "cell_type": "markdown",
   "id": "ef48b4de",
   "metadata": {},
   "source": [
    "#### Time Complexity: O(n) (linear time complexity)\n",
    "#### Space Complexity: O(1) (constant space complexity)\n",
    "---"
   ]
  },
  {
   "cell_type": "markdown",
   "id": "5b0d8cab",
   "metadata": {},
   "source": [
    "### [1.3 Two Sum](https://leetcode.com/problems/two-sum/)\n",
    "Given an array of integers nums and an integer target, return indices of the two numbers such that they add up to target."
   ]
  },
  {
   "cell_type": "markdown",
   "id": "9cc1c8f1",
   "metadata": {},
   "source": [
    "#### Brute Force Approach\n",
    "1. **Iterate Through the List**: Use a nested loop to iterate through the list nums. The outer loop will iterate over each element in the list, and the inner loop will iterate over the subsequent elements.\n",
    "2. **Check Sum**: Inside the inner loop, check if the sum of the current element and the element at the inner loop index equals the target sum.\n",
    "3. **Return Indices**: If the sum equals the target, return the indices of the two numbers that sum up to the target."
   ]
  },
  {
   "cell_type": "code",
   "execution_count": 5,
   "id": "fb30c773",
   "metadata": {},
   "outputs": [
    {
     "data": {
      "text/plain": [
       "[0, 1]"
      ]
     },
     "execution_count": 5,
     "metadata": {},
     "output_type": "execute_result"
    }
   ],
   "source": [
    "def two_sum(nums, target):\n",
    "    # Iterate through the list\n",
    "    for i in range(len(nums)):\n",
    "        for j in range(i + 1, len(nums)):\n",
    "            # Check if the sum of nums[i] and nums[j] equals the target\n",
    "            if nums[i] + nums[j] == target:\n",
    "                # Return the indices of the two numbers\n",
    "                return [i, j]\n",
    "\n",
    "nums = [2, 7, 11, 15]\n",
    "target = 9\n",
    "result = two_sum(nums, target)\n",
    "result"
   ]
  },
  {
   "cell_type": "markdown",
   "id": "292ee865",
   "metadata": {},
   "source": [
    "#### Time Complexity: O(N * N)\n",
    "#### Space Complexity: O(1)\n",
    "---"
   ]
  },
  {
   "cell_type": "markdown",
   "id": "bac21b27",
   "metadata": {},
   "source": [
    "#### Optimal Approach\n",
    "**Intuition**\n",
    " 1. The key idea behind this approach is to use a dictionary to store the difference between the target and each element as we iterate through the array.\n",
    " 2. By storing these differences in a dictionary, we can quickly check if the complement of the current element exists in the dictionary, indicating that we have found the pair of elements that add up to the target.\n",
    "\n",
    "**Steps**\n",
    " 1. **Initialization**: We initialize an empty dictionary called helper. This dictionary will store the difference between the target and each element as keys, and the index of the element as values.\n",
    " 2. **Iterating through the Array**: We iterate through each element of the array nums using a for loop.\n",
    " 3. **Checking Complement Existence**: For each element nums[i], we check if its complement (i.e., target - nums[i]) exists in the helper dictionary.\n",
    " 4. **Handling Complement Existence**: If the complement exists in the helper dictionary, it means we have found the pair of elements that add up to the target. We return the indices of the complement and the current element. If the complement does not exist in the helper dictionary, we add the current element along with its index to the helper dictionary.\n",
    " 5. **Completing the Iteration**: We continue this process until we have iterated through all elements in the array nums."
   ]
  },
  {
   "cell_type": "code",
   "execution_count": 8,
   "id": "af18145f",
   "metadata": {},
   "outputs": [
    {
     "data": {
      "text/plain": [
       "[0, 1]"
      ]
     },
     "execution_count": 8,
     "metadata": {},
     "output_type": "execute_result"
    }
   ],
   "source": [
    "from typing import List\n",
    "def twoSum(nums: List[int], target: int) -> List[int]:\n",
    "    helper = {}\n",
    "    for i in range(len(nums)):\n",
    "        if nums[i] in helper:\n",
    "            return [helper[nums[i]], i]\n",
    "        helper[target-nums[i]] = i\n",
    "nums = [2, 7, 11, 15]\n",
    "target = 9\n",
    "result = two_sum(nums, target)\n",
    "result"
   ]
  },
  {
   "cell_type": "markdown",
   "id": "cf6a52fd",
   "metadata": {},
   "source": [
    "#### Time Complexity: O(N)\n",
    "#### Space Complexity: O(N)\n",
    "---"
   ]
  },
  {
   "cell_type": "code",
   "execution_count": null,
   "id": "26ffebcb",
   "metadata": {},
   "outputs": [],
   "source": []
  },
  {
   "cell_type": "code",
   "execution_count": null,
   "id": "28518530",
   "metadata": {},
   "outputs": [],
   "source": []
  },
  {
   "cell_type": "code",
   "execution_count": null,
   "id": "e9100158",
   "metadata": {},
   "outputs": [],
   "source": []
  },
  {
   "cell_type": "code",
   "execution_count": null,
   "id": "58c3124d",
   "metadata": {},
   "outputs": [],
   "source": []
  },
  {
   "cell_type": "code",
   "execution_count": null,
   "id": "e669864d",
   "metadata": {},
   "outputs": [],
   "source": []
  },
  {
   "cell_type": "code",
   "execution_count": null,
   "id": "12167591",
   "metadata": {},
   "outputs": [],
   "source": []
  },
  {
   "cell_type": "code",
   "execution_count": null,
   "id": "8fb082d9",
   "metadata": {},
   "outputs": [],
   "source": []
  },
  {
   "cell_type": "code",
   "execution_count": null,
   "id": "5a019fc6",
   "metadata": {},
   "outputs": [],
   "source": []
  },
  {
   "cell_type": "code",
   "execution_count": null,
   "id": "c345cb19",
   "metadata": {},
   "outputs": [],
   "source": []
  },
  {
   "cell_type": "code",
   "execution_count": null,
   "id": "4feeee88",
   "metadata": {},
   "outputs": [],
   "source": []
  },
  {
   "cell_type": "code",
   "execution_count": null,
   "id": "c2f36005",
   "metadata": {},
   "outputs": [],
   "source": []
  },
  {
   "cell_type": "code",
   "execution_count": null,
   "id": "19655b34",
   "metadata": {},
   "outputs": [],
   "source": []
  },
  {
   "cell_type": "code",
   "execution_count": null,
   "id": "d6ceb93a",
   "metadata": {},
   "outputs": [],
   "source": []
  },
  {
   "cell_type": "code",
   "execution_count": null,
   "id": "1be2c801",
   "metadata": {},
   "outputs": [],
   "source": []
  },
  {
   "cell_type": "code",
   "execution_count": null,
   "id": "186f1001",
   "metadata": {},
   "outputs": [],
   "source": []
  },
  {
   "cell_type": "code",
   "execution_count": null,
   "id": "2b160a78",
   "metadata": {},
   "outputs": [],
   "source": []
  },
  {
   "cell_type": "code",
   "execution_count": null,
   "id": "2a9fe0f5",
   "metadata": {},
   "outputs": [],
   "source": []
  },
  {
   "cell_type": "code",
   "execution_count": null,
   "id": "2a741f08",
   "metadata": {},
   "outputs": [],
   "source": []
  },
  {
   "cell_type": "code",
   "execution_count": null,
   "id": "eda1ff1d",
   "metadata": {},
   "outputs": [],
   "source": []
  },
  {
   "cell_type": "markdown",
   "id": "7c9710a3",
   "metadata": {},
   "source": [
    "## 2. Bit Manipulations"
   ]
  },
  {
   "cell_type": "markdown",
   "id": "7003cccc",
   "metadata": {},
   "source": [
    "### 2.1 Number of 1 bits\n",
    "- Count the number of set bits (bits with a value of 1) in the binary representation of an integer n."
   ]
  },
  {
   "cell_type": "markdown",
   "id": "93f17290",
   "metadata": {},
   "source": [
    "#### Brute Force Approach\n",
    "1. Initialize a variable count to 0 to keep track of the number of set bits.\n",
    "2. Use a while loop to iterate through each bit of the binary representation of n.\n",
    "3. Check if the least significant bit (LSB) is 1 using the bitwise AND operation (n & 1).\n",
    "4. If the LSB is 1, increment the count variable.\n",
    "5. Right shift n by 1 position to move to the next bit.\n",
    "6. Repeat steps 3-5 until all bits of n have been processed.\n",
    "7. Return the final count."
   ]
  },
  {
   "cell_type": "code",
   "execution_count": 1,
   "id": "597fb880",
   "metadata": {},
   "outputs": [
    {
     "data": {
      "text/plain": [
       "3"
      ]
     },
     "execution_count": 1,
     "metadata": {},
     "output_type": "execute_result"
    }
   ],
   "source": [
    "def number_of_1_bits(n: int) -> int:\n",
    "    \"\"\"\n",
    "    Count the number of set bits (1s) in the binary representation of an integer.\n",
    "\n",
    "    Parameters:\n",
    "    - n (int): Input integer.\n",
    "\n",
    "    Returns:\n",
    "    - int: Number of set bits in the binary representation of the input integer.\n",
    "    \"\"\"\n",
    "    count = 0\n",
    "    while n:\n",
    "        if n & 1 == 1:\n",
    "            count += 1\n",
    "        n >>= 1\n",
    "    return count\n",
    "\n",
    "# function call\n",
    "number_of_1_bits(200)"
   ]
  },
  {
   "cell_type": "markdown",
   "id": "a701d3b7",
   "metadata": {},
   "source": [
    "#### Optimal Solution\n",
    "##### Intuition:\n",
    "The algorithm uses a bitwise operation trick to efficiently count the number of set bits in the binary representation of the given integer n. The key insight is in the line n &= (n - 1), which effectively drops the rightmost set bit of n in each iteration.\n",
    "\n",
    "##### Algorithm:\n",
    "1. Initialize a variable count to 0.\n",
    "2. Use a while loop that continues until n becomes 0.\n",
    "3. Inside the loop, perform n &= (n - 1), which drops the rightmost set bit in n.\n",
    "4. Increment the count for every iteration.\n",
    "5. Return the final count."
   ]
  },
  {
   "cell_type": "code",
   "execution_count": 5,
   "id": "e101e1ff",
   "metadata": {},
   "outputs": [
    {
     "name": "stdout",
     "output_type": "stream",
     "text": [
      "3\n"
     ]
    }
   ],
   "source": [
    "def number_of_1_bits(n: int) -> int:\n",
    "    count = 0;\n",
    "    \n",
    "    while n: \n",
    "        n &= (n - 1) # n & (n-1), drops the last set bit.\n",
    "        count += 1\n",
    "    \n",
    "    return count;\n",
    "\n",
    "res = number_of_1_bits(200)\n",
    "print(res)"
   ]
  },
  {
   "cell_type": "markdown",
   "id": "838a0c18",
   "metadata": {},
   "source": [
    "##### Time Complexity:\n",
    "The time complexity of this algorithm is O(k), where k is the number of set bits in the binary representation of n. In the worst case, the loop runs for each set bit in n, and the bitwise operation n &= (n - 1) takes constant time.\n",
    "\n",
    "##### Space Complexity:\n",
    "The space complexity is O(1), as the algorithm uses a constant amount of space regardless of the input size. The only variable used is count, and its space requirement does not depend on the input size."
   ]
  },
  {
   "cell_type": "markdown",
   "id": "615688e8",
   "metadata": {},
   "source": [
    "### 2.2 Counting Bits"
   ]
  },
  {
   "cell_type": "markdown",
   "id": "cf0de8fd",
   "metadata": {},
   "source": [
    "#### Optimal Solution\n",
    "##### Intuition:\n",
    "The goal of the function countBits is to count the number of 1s in the binary representation of all numbers from 0 to n. The function utilizes dynamic programming to efficiently compute these counts.\n",
    "\n",
    "##### Algorithm:\n",
    "1. Initialize an array ans of size n+1 to store the count of 1s for each number in the range from 0 to n.\n",
    "2. Iterate over the numbers from 1 to n using a loop.\n",
    "3. For each number i, the count of 1s in its binary representation is calculated as follows:\n",
    "    - ans[i] = ans[i//2] + i % 2\n",
    "        - ans[i//2] corresponds to the count of 1s in the binary representation of i/2, which is essentially the same as right-shifting the bits of i by one position.\n",
    "        - i % 2 gives the remainder when i is divided by 2, which is the last bit of the binary representation of i.\n",
    "        - The sum of these two values gives the count of 1s in the binary representation of i.\n",
    "4. The final result is the array ans."
   ]
  },
  {
   "cell_type": "code",
   "execution_count": 2,
   "id": "55aeff35",
   "metadata": {},
   "outputs": [
    {
     "data": {
      "text/plain": [
       "[0, 1, 1, 2, 1, 2, 2]"
      ]
     },
     "execution_count": 2,
     "metadata": {},
     "output_type": "execute_result"
    }
   ],
   "source": [
    "from typing import List\n",
    "def countBits(n: int) -> List[int]:\n",
    "    '''Binary representation of a number depends on the binary representation on its half \n",
    "       and its remainder when devided by 2.\n",
    "    '''\n",
    "    ans = [0 for _ in range(n+1)]\n",
    "    for i in range(1, n+1):\n",
    "        ans[i] = ans[i//2] + i%2\n",
    "    return ans\n",
    "countBits(6)"
   ]
  },
  {
   "cell_type": "markdown",
   "id": "0c68477f",
   "metadata": {},
   "source": [
    "##### Time Complexity:\n",
    "The time complexity of this algorithm is O(n), where n is the input parameter. This is because there is a single loop that iterates over all numbers from 1 to n, and the operations inside the loop are constant time.\n",
    "\n",
    "##### Space Complexity:\n",
    "The space complexity is also O(n), as we use an additional array ans of size n+1 to store the count of 1s for each number. The space required is linear with respect to the input size."
   ]
  },
  {
   "cell_type": "markdown",
   "id": "0a123656",
   "metadata": {},
   "source": [
    "### 2.3 [Reverse Bits](https://leetcode.com/problems/reverse-bits/description/)"
   ]
  },
  {
   "cell_type": "markdown",
   "id": "af68c57a",
   "metadata": {},
   "source": [
    "#### Cover"
   ]
  }
 ],
 "metadata": {
  "kernelspec": {
   "display_name": "Python 3 (ipykernel)",
   "language": "python",
   "name": "python3"
  },
  "language_info": {
   "codemirror_mode": {
    "name": "ipython",
    "version": 3
   },
   "file_extension": ".py",
   "mimetype": "text/x-python",
   "name": "python",
   "nbconvert_exporter": "python",
   "pygments_lexer": "ipython3",
   "version": "3.10.12"
  }
 },
 "nbformat": 4,
 "nbformat_minor": 5
}
