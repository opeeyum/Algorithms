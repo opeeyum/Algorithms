{
 "cells": [
  {
   "cell_type": "markdown",
   "id": "cb26ff06",
   "metadata": {},
   "source": [
    "# Sliding Windows Problems\n",
    "### Sliding Window works when problem(s) is about subarrays.\n",
    "> Subarray Needs to be continous."
   ]
  },
  {
   "cell_type": "markdown",
   "id": "a34376c8",
   "metadata": {},
   "source": [
    "### Fixed size sliding-window problems identifications\n",
    "1. Array problem.\n",
    "2. Computation will be on sub-array or sub-string (sub-array or sub-string needs to be continuous).\n",
    "3. Fixed size will given i.e K."
   ]
  },
  {
   "cell_type": "code",
   "execution_count": 12,
   "id": "47a952a2",
   "metadata": {},
   "outputs": [
    {
     "name": "stdout",
     "output_type": "stream",
     "text": [
      "[1]\n",
      "[1, 2]\n",
      "[1, 2, 3]\n",
      "[2]\n",
      "[2, 3]\n",
      "[3]\n"
     ]
    }
   ],
   "source": [
    "def get_all_subarrays(arr, n):\n",
    "    for i in range(n):\n",
    "        for j in range(i, n):\n",
    "            temp = []\n",
    "            for k in range(i, j+1):\n",
    "                temp.append(arr[k])\n",
    "            print(temp)\n",
    "                \n",
    "get_all_subarrays([1, 2, 3], 3)"
   ]
  },
  {
   "cell_type": "markdown",
   "id": "2c67bd15",
   "metadata": {},
   "source": [
    "## 1. Sum of all the subarrays of given size"
   ]
  },
  {
   "cell_type": "code",
   "execution_count": 26,
   "id": "7bbe65f8",
   "metadata": {},
   "outputs": [
    {
     "name": "stdout",
     "output_type": "stream",
     "text": [
      "Sum of all subarray(s) of given size, 2 is: 3, 5, 7, 9, \n"
     ]
    }
   ],
   "source": [
    "def sum_of_all_subarrays_of_given_size(arr, n, k):\n",
    "    sum = 0;\n",
    "    for i in range(k):\n",
    "        sum += arr[i];\n",
    "    print(\"Sum of all subarray(s) of given size,\",k, \"is:\",sum, end=', ')\n",
    "    for i in range(k,n):\n",
    "        sum = sum - arr[i - k] + arr[i];\n",
    "        print(sum, end=', ')\n",
    "    print()\n",
    "\n",
    "n = 5\n",
    "k = 2\n",
    "arr = [1, 2, 3, 4, 5]\n",
    "sum_of_all_subarrays_of_given_size(arr, n, k)"
   ]
  },
  {
   "cell_type": "markdown",
   "id": "2c9622e8",
   "metadata": {},
   "source": [
    "## 2. First Negative Number in every Window of Size K "
   ]
  },
  {
   "cell_type": "code",
   "execution_count": null,
   "id": "7c621dbf",
   "metadata": {},
   "outputs": [],
   "source": []
  }
 ],
 "metadata": {
  "kernelspec": {
   "display_name": "Python 3 (ipykernel)",
   "language": "python",
   "name": "python3"
  },
  "language_info": {
   "codemirror_mode": {
    "name": "ipython",
    "version": 3
   },
   "file_extension": ".py",
   "mimetype": "text/x-python",
   "name": "python",
   "nbconvert_exporter": "python",
   "pygments_lexer": "ipython3",
   "version": "3.10.12"
  }
 },
 "nbformat": 4,
 "nbformat_minor": 5
}
